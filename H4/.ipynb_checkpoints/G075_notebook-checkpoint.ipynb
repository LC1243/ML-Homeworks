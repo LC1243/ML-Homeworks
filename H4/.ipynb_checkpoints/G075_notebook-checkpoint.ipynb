{
 "cells": [
  {
   "cell_type": "markdown",
   "metadata": {},
   "source": [
    "**II. Programming and critical analysis [9v]**\n",
    "\n",
    "\n",
    "Recall the column_diagnosis.arff dataset from previous homeworks. For the following exercises,\n",
    "normalize the data using sklearn’s MinMaxScaler."
   ]
  },
  {
   "cell_type": "markdown",
   "metadata": {},
   "source": [
    "**1)** [4v] Using sklearn, apply k-means clustering fully unsupervisedly on the normalized data with\n",
    "𝑘 ∈ {2,3,4,5} (random=0 and remaining parameters as default). Assess the silhouette and purity of\n",
    "the produced solutions."
   ]
  },
  {
   "cell_type": "code",
   "execution_count": null,
   "metadata": {},
   "outputs": [],
   "source": [
    "import pandas as pd\n",
    "from sklearn import datasets, metrics, cluster, mixture, preprocessing\n",
    "import numpy as np\n",
    "from scipy.io.arff import loadarff\n",
    "\n",
    "def purity_score(y_true, y_pred):\n",
    "    # compute contingency/confusion matrix\n",
    "    confusion_matrix = metrics.cluster.contingency_matrix(y_true, y_pred)\n",
    "    return np.sum(np.amax(confusion_matrix, axis=0)) / np.sum(confusion_matrix) \n",
    "\n",
    "data = loadarff('column_diagnosis.arff')\n",
    "df = pd.DataFrame(data[0])\n",
    "df['class'] = df['class'].str.decode('utf-8')\n",
    "\n",
    "X = df.drop('class', axis=1)\n",
    "y = df['class']\n",
    "\n",
    "# MinMaxScaler\n",
    "scaler = preprocessing.MinMaxScaler()\n",
    "X_normalized = scaler.fit_transform(X)\n",
    "\n",
    "# Values of k\n",
    "k_values = [2, 3, 4, 5]\n",
    "\n",
    "# Silhouette and purity scores\n",
    "silhouette_scores = []\n",
    "purity_scores = []\n",
    "\n",
    "# Clustering\n",
    "for k in k_values:\n",
    "    kmeans = cluster.KMeans(n_clusters=k, random_state=0)\n",
    "    \n",
    "    # Isolate the k=3 values for question 3\n",
    "    if k==3:\n",
    "        labels3 = kmeans.fit_predict(X_normalized)\n",
    "        cluster_labels = labels3\n",
    "    else:\n",
    "        cluster_labels = kmeans.fit_predict(X_normalized)\n",
    "    \n",
    "    silhouette_avg = metrics.silhouette_score(X_normalized, cluster_labels)\n",
    "    purity = purity_score(y, cluster_labels)\n",
    "    # Silhouette score\n",
    "    silhouette_scores.append(silhouette_avg)\n",
    "    purity_scores.append(purity)\n",
    "\n",
    "# Print silhouette and purity scores for each k\n",
    "for i in range(len(k_values)): \n",
    "   k = k_values[i] \n",
    "   silhouette = silhouette_scores[i] \n",
    "   purity = purity_scores[i] \n",
    "   print(f'k={k}: \\nSilhouette Score = {silhouette} \\nPurity = {purity}\\n')\n"
   ]
  },
  {
   "cell_type": "markdown",
   "metadata": {},
   "source": [
    "**2)** [2v] Consider the application of PCA after the data normalization:\n",
    "    \n",
    "**i.** Identify the variability explained by the top two principal components.\n"
   ]
  },
  {
   "cell_type": "code",
   "execution_count": null,
   "metadata": {},
   "outputs": [],
   "source": [
    "from sklearn.decomposition import PCA\n",
    "\n",
    "# Create a PCA instance\n",
    "pca = PCA(n_components=2)\n",
    "\n",
    "# Fit the PCA model to the normalized data\n",
    "X_pca = pca.fit_transform(X_normalized)\n",
    "\n",
    "# Variability explained by the top two principal components\n",
    "variability = pca.explained_variance_ratio_[0] + pca.explained_variance_ratio_[1]\n",
    "\n",
    "# Print the explained variance ratio\n",
    "print(f\"Variability by the Top 2 Principal Components: {variability*100:.4f} %\")\n"
   ]
  },
  {
   "cell_type": "markdown",
   "metadata": {},
   "source": [
    "**ii.** For each one of these two components, sort the input variables by relevance by inspecting the absolute weights of the linear projection."
   ]
  },
  {
   "cell_type": "code",
   "execution_count": null,
   "metadata": {},
   "outputs": [],
   "source": [
    "# Get the absolute values\n",
    "absolute_loadings = np.abs(pca.components_)\n",
    "\n",
    "# DataFrame to associate the loadings with the input variables\n",
    "loadings_df = pd.DataFrame(absolute_loadings, columns=X.columns, index=['PC1', 'PC2'])\n",
    "\n",
    "# Sort the input variables by relevance for each principal component\n",
    "sorted_loadings_pc1 = loadings_df.loc['PC1'].sort_values(ascending=False)\n",
    "sorted_loadings_pc2 = loadings_df.loc['PC2'].sort_values(ascending=False)\n",
    "\n",
    "# Prints\n",
    "# Starting positions for each column, to organize the prints\n",
    "variable_position = 0\n",
    "loading1_position = 30\n",
    "loading2_position = 60\n",
    "\n",
    "# Prints\n",
    "print(\"More relevant variables for Component 1:\")\n",
    "print(\"{0:41} {1:30} {2:30}\".format(\"Variable\", \"Component 1 Loading\", \"Component 2 Loading\\n\"))\n",
    "\n",
    "for attr in sorted_loadings_pc1.index:\n",
    "    print(\"{0:30} {1:30} {2:30}\".format(attr, sorted_loadings_pc1[attr], sorted_loadings_pc2[attr]))\n",
    "\n",
    "print(\"\\n\\nMore relevant variables for Component 2:\")\n",
    "print(\"{0:41} {1:30} {2:30}\".format(\"Variable\", \"Component 1 Loading\", \"Component 2 Loading\\n\"))\n",
    "\n",
    "for attr in sorted_loadings_pc2.index:\n",
    "    print(\"{0:30} {1:30} {2:30}\".format(attr, sorted_loadings_pc1[attr], sorted_loadings_pc2[attr]))"
   ]
  },
  {
   "cell_type": "markdown",
   "metadata": {},
   "source": [
    "**3)** [2v] Visualize side-by-side the data using: i) the ground diagnoses, and ii) the previously learned\n",
    "𝑘 = 3 clustering solution. To this end, projected the normalized data onto a 2-dimensional data\n",
    "space using PCA and then color observations using the reference and cluster annotations."
   ]
  },
  {
   "cell_type": "code",
   "execution_count": null,
   "metadata": {},
   "outputs": [],
   "source": [
    "import matplotlib.pyplot as plt\n",
    "from sklearn.preprocessing import LabelEncoder\n",
    "\n",
    "# Create a label encoder\n",
    "label_encoder = LabelEncoder()\n",
    "\n",
    "# Encode the labels to numeric values\n",
    "c_original = label_encoder.fit_transform(y)\n",
    "c_kmeans = label_encoder.fit_transform(labels3)\n",
    "\n",
    "# Change the labels from the default to desired labels\n",
    "labels = np.unique(y)\n",
    "label_mapping = {'$\\\\mathdefault{0}$': labels[0], \n",
    "                 '$\\\\mathdefault{1}$': labels[1], \n",
    "                 '$\\\\mathdefault{2}$': labels[2]}\n",
    "print(c_original, \"\\n\", c_kmeans)\n",
    "# Plot of the ground diagnosis\n",
    "plt.figure(figsize=(14, 5))\n",
    "plt.subplot(121)\n",
    "scatter = plt.scatter(X_pca[:, 0], X_pca[:, 1], c=c_original)\n",
    "plt.title(\"Ground Diagnoses\")\n",
    "plt.xlabel(X.columns[0])\n",
    "plt.ylabel(X.columns[1])\n",
    "\n",
    "# Change the labels to desired ones\n",
    "handles, labels = scatter.legend_elements()\n",
    "custom_labels = [label_mapping[label] for label in labels]\n",
    "plt.legend(handles, custom_labels)\n",
    "\n",
    "# Plot for k=3\n",
    "plt.subplot(122)\n",
    "scatter = plt.scatter(X_pca[:, 0], X_pca[:, 1], c=c_kmeans)\n",
    "plt.title(\"k-Means, with k=3\")\n",
    "plt.xlabel(X.columns[0])\n",
    "plt.ylabel(X.columns[1])\n",
    "handles, labels = scatter.legend_elements()\n",
    "plt.legend(handles, labels)\n",
    "\n",
    "plt.show()\n"
   ]
  },
  {
   "cell_type": "markdown",
   "metadata": {},
   "source": [
    "**4)** [1v] Considering the results from questions (1) and (3), identify two ways on how clustering can\n",
    "be used to characterize the population of ill and healthy individuals."
   ]
  },
  {
   "cell_type": "markdown",
   "metadata": {},
   "source": [
    "1 - Ao especificar o nº de clusters, podemos dividir grupos em subgrupos. Neste caso, é possível dividir o grupo de doentes em Hernia e Spondylolisthesis, utilizando 3 clusters.\n",
    "2 - Uma vez que as classes sobrepoem-se bastante (como evidenciado no primeiro gráfico do 3), nao há uma separação clara entre os 3 grupos, pelo que é muito dificil encontrar uma maneira de os dividir em clusters. No gráfico do k-means e nos resultados do exercício 1, reparamos que certamente não é o melhor método para este dataset. Assim, clustering é uma boa opção em casos em que as diferentes classes e subclasses estão bem separadas (e sem muitos outliers???), ou seja, onde a distância inter-cluster é maior que as distância intra-cluster para a maioria dos pontos."
   ]
  },
  {
   "cell_type": "code",
   "execution_count": null,
   "metadata": {},
   "outputs": [],
   "source": []
  }
 ],
 "metadata": {
  "kernelspec": {
   "display_name": "Python 3",
   "language": "python",
   "name": "python3"
  }
 },
 "nbformat": 4,
 "nbformat_minor": 2
}
