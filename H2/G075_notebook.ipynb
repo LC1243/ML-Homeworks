{
 "cells": [
  {
   "cell_type": "markdown",
   "metadata": {},
   "source": [
    "### Considering the column_diagnosis.arff dataset available at the course webpage’s homework tab. Using sklearn, apply a 10-fold stratified cross-validation with shuffling (random_state=0) for the assessment of predictive models along this section."
   ]
  },
  {
   "cell_type": "markdown",
   "metadata": {},
   "source": [
    "### 1) [3v] Compare the performance of 𝑘NN with 𝑘 = 5 and naïve Bayes with Gaussian assumption (consider all remaining parameters for each classifier as sklearn’s default):"
   ]
  },
  {
   "cell_type": "markdown",
   "metadata": {},
   "source": [
    "### a. Plot two boxplots with the fold accuracies for each classifier."
   ]
  },
  {
   "cell_type": "code",
   "execution_count": null,
   "metadata": {
    "scrolled": true
   },
   "outputs": [],
   "source": [
    "from sklearn.naive_bayes import GaussianNB\n",
    "from sklearn.neighbors import KNeighborsClassifier\n",
    "\n",
    "from sklearn.model_selection import train_test_split, cross_val_score\n",
    "from sklearn.model_selection import StratifiedKFold\n",
    "\n",
    "from scipy.io.arff import loadarff\n",
    "import pandas as pd\n",
    "import seaborn as sns\n",
    "import matplotlib.pyplot as plt\n",
    "\n",
    "# Reading the ARFF file\n",
    "data = loadarff('column_diagnosis.arff')\n",
    "df = pd.DataFrame(data[0])\n",
    "df['class'] = df['class'].str.decode('utf-8')\n",
    "\n",
    "X = df.drop('class', axis=1)\n",
    "y = df['class']\n",
    "\n",
    "# kNN\n",
    "neigh = KNeighborsClassifier(n_neighbors=5)\n",
    "neigh.fit(X, y)\n",
    "\n",
    "# Bayesian\n",
    "gnb = GaussianNB()\n",
    "gnb.fit(X, y)\n",
    "\n",
    "\n",
    "cv = StratifiedKFold(n_splits=10, shuffle=True, random_state=0)\n",
    "\n",
    "# Cross-validation for kNN\n",
    "knn_scores = cross_val_score(neigh, X, y, cv=cv)\n",
    "\n",
    "# Cross-validation for Gaussian Naive Bayes\n",
    "gnb_scores = cross_val_score(gnb, X, y, cv=cv)\n",
    "\n",
    "\n",
    "# Boxplot \n",
    "data = pd.DataFrame({\n",
    "    'label1': \"Knn\",\n",
    "    'kNN_scores': knn_scores,\n",
    "    'label2': \"Gnb\",\n",
    "    'Gaussian_scores': gnb_scores\n",
    "})\n",
    "\n",
    "sns.boxplot(data=data)\n",
    "plt.show()"
   ]
  },
  {
   "cell_type": "markdown",
   "metadata": {},
   "source": [
    "### b. Using scipy, test the hypothesis “𝑘NN is statistically superior to naïve Bayes regarding accuracy”, asserting whether is true."
   ]
  },
  {
   "cell_type": "markdown",
   "metadata": {},
   "source": [
    "Para descobrir se kNN é estatisticamente superior, utilizamos um teste de hipóteses, considerando as seguintes hipóteses:\n",
    "\n",
    "* H0: Accuracy do kNN igual à accuracy do GNB \n",
    "* H1: Accuracy do kNN maior do que a accuracy do GNB\n"
   ]
  },
  {
   "cell_type": "code",
   "execution_count": null,
   "metadata": {},
   "outputs": [],
   "source": [
    "from scipy import stats\n",
    "\n",
    "res = stats.ttest_rel(knn_scores, gnb_scores, alternative='greater')\n",
    "print(\"knn > gnb ? p-value=\",res.pvalue)"
   ]
  },
  {
   "cell_type": "markdown",
   "metadata": {},
   "source": [
    "Baseado neste p-value, não podemos rejeitar a hipótese nula para níveis de significância 1%, 5% e 10%. \n",
    "\n",
    "Concluímos assim que não há uma diferença estatisticamente significativa entre os modelos kNN e naive Bayes e não podemos afirmar com confiança que kNN é estatisticamente superior ao naive Bayes em termos de accuracy."
   ]
  },
  {
   "cell_type": "markdown",
   "metadata": {},
   "source": [
    "### 2) [2.5v] Consider two 𝑘NN predictors with 𝑘 = 1 and 𝑘 = 5 (uniform weights, Euclidean distance, all remaining parameters as default). Plot the differences between the two cumulative confusion matrices of the predictors. Comment."
   ]
  },
  {
   "cell_type": "code",
   "execution_count": null,
   "metadata": {},
   "outputs": [],
   "source": [
    "from sklearn.metrics import confusion_matrix\n",
    "import numpy as np\n",
    "\n",
    "# Create models\n",
    "knn1 = KNeighborsClassifier(n_neighbors=1, weights='uniform', metric='euclidean')\n",
    "\n",
    "knn5 = KNeighborsClassifier(n_neighbors=5, weights='uniform', metric='euclidean')\n",
    "\n",
    "# Initialize SKFold\n",
    "cv = StratifiedKFold(n_splits=10, shuffle=True, random_state=0)\n",
    "\n",
    "# Initialize confusion matrices arrays\n",
    "confusion_matrices_knn1 = []\n",
    "confusion_matrices_knn5 = []\n",
    "\n",
    "# Cross-validation\n",
    "for train_index, test_index in cv.split(X, y):\n",
    "    X_train, X_test = X.iloc[train_index], X.iloc[test_index]\n",
    "    y_train, y_test = y.iloc[train_index], y.iloc[test_index]\n",
    "    \n",
    "    knn1.fit(X_train, y_train)\n",
    "    knn1_pred = knn1.predict(X_test)\n",
    "    \n",
    "    knn5.fit(X_train, y_train)\n",
    "    knn5_pred = knn5.predict(X_test)\n",
    "    \n",
    "    # Add the values to the confusion matrix\n",
    "    confusion_matrices_knn1.append(confusion_matrix(y_test, knn1_pred))\n",
    "    confusion_matrices_knn5.append(confusion_matrix(y_test, knn5_pred))\n",
    "\n",
    "# Calculate the final confusion matrices for each model\n",
    "confusion_matrix_knn1 = np.sum(confusion_matrices_knn1, axis=0)\n",
    "confusion_matrix_knn5 = np.sum(confusion_matrices_knn5, axis=0)\n",
    "\n",
    "# Result confusion matrix\n",
    "confusion_matrix = confusion_matrix_knn1 - confusion_matrix_knn5\n",
    "\n",
    "# Plotting\n",
    "labels = ['Hernia', 'Normal', 'Spondylolisthesis']\n",
    "sns.heatmap(confusion_matrix, annot=True, fmt='g', xticklabels=labels, yticklabels=labels)\n",
    "\n",
    "plt.title(\"Confusion Matrix Difference (KNN k=1 - KNN k=5)\")\n",
    "plt.xlabel(\"Predicted\")\n",
    "plt.ylabel(\"Real\")\n",
    "plt.show()\n"
   ]
  },
  {
   "cell_type": "markdown",
   "metadata": {},
   "source": [
    "Este gráfico mostra a diferença entre as matrizes cumulativas dos preditores de kNN, com k=1 e k=5. Nas secções com valor positivo, o modelo com k=1 é superior, enquanto nos valores negativos k=5 é mais preciso. \n",
    "    \n",
    "Observando o gráfico podemos ver que a matriz do preditor de KNN com k = 1, preveu mais casos errados em que a pessoa não tinha doenças e na realidade sofria de hérnia ou de spondylolisthesis. Por outro lado, também preveu mais vezes que o paciente tinha spondylolisthesis quando não apresentava doença. \n",
    "\t\n",
    "Podemos ver também que o preditor de KNN com k = 5, preveu mais casos em que a pessoa sofria de uma hérnia, que na realidade eram falsos positivos, visto que as pessoas não deviam ser diagnosticadas com hérnia.\n",
    "\t\n",
    "Observando a diagonal,  que identifica os True Positives, podemos ver que o preditor de kNN com k=1 identifica mais casos de doenças corretamente,  que o preditor com k = 5. Podemos observar também que os dois preditores, foram idênticos nos casos em que se identificou uma doença e na realidade era outra (previu-se que o indivíduo sofria de hérnia mas na realidade sofria de spondylolisthesis, e vice-versa).\n",
    "\t\n",
    "Concluindo, podemos ver que o preditor com k = 1 é superior em algumas secções, e que o preditor com k = 5 é mais preciso noutros casos. Deste modo, não podemos afirmar que um é universalmente melhor que o outro."
   ]
  },
  {
   "cell_type": "markdown",
   "metadata": {},
   "source": [
    "### 3) [1.5v] Considering the unique properties of column_diagnosis, identify three possible difficulties of naïve Bayes when learning from the given dataset."
   ]
  },
  {
   "cell_type": "markdown",
   "metadata": {},
   "source": [
    "* O dataset possui mais casos de Spondylolisthesis que do resto das classes (150 de Spondylolisthesis contra 60 casos de Hérnia e 100 casos normais). Uma vez que o naive Bayes assume que os parâmetros são condicionalmente independentes dentro de cada classe, uma classe dominante pode levar a que o naive Bayes tenha um \"bias\" e favoreça essa mesma classe incorretamente nas previsões.\n",
    "\n",
    "\n",
    "* Naive Bayes assume que todos os parâmetros são independentes entre si. Em datasets clínicos como este, há uma grande possibilidade de alguns elementos estarem relacionados. Deste modo, ao ignorar relações entre parâmetros, o modelo pode produzir previsões imprecisas.\n",
    "\n",
    "\n",
    "* O naive Bayes precisa de bastantes dados para aproximar com exatidão as suas funções de massa e densidade de probabilidade. Uma vez que o dataset tem uma dimensão média, de 310 elementos, a aproximação pode não ser a mais adequada, o que pode ser a causa da menor precisão deste modelo."
   ]
  }
 ],
 "metadata": {
  "kernelspec": {
   "display_name": "Python 3",
   "language": "python",
   "name": "python3"
  },
  "language_info": {
   "codemirror_mode": {
    "name": "ipython",
    "version": 3
   },
   "file_extension": ".py",
   "mimetype": "text/x-python",
   "name": "python",
   "nbconvert_exporter": "python",
   "pygments_lexer": "ipython3",
   "version": "3.7.3"
  }
 },
 "nbformat": 4,
 "nbformat_minor": 5
}
