{
 "cells": [
  {
   "cell_type": "markdown",
   "id": "ec3a7f79",
   "metadata": {},
   "source": [
    "### Considering the column_diagnosis.arff dataset available at the course webpage’s homework tab. Using sklearn, apply a 10-fold stratified cross-validation with shuffling (random_state=0) for the assessment of predictive models along this section."
   ]
  },
  {
   "cell_type": "markdown",
   "id": "6efd4009",
   "metadata": {},
   "source": [
    "### 1) [3v] Compare the performance of 𝑘NN with 𝑘 = 5 and naïve Bayes with Gaussian assumption (consider all remaining parameters for each classifier as sklearn’s default):"
   ]
  },
  {
   "cell_type": "markdown",
   "id": "f5340c20",
   "metadata": {},
   "source": [
    "### a. Plot two boxplots with the fold accuracies for each classifier."
   ]
  },
  {
   "cell_type": "code",
   "execution_count": 3,
   "id": "212d0aef",
   "metadata": {},
   "outputs": [
    {
     "data": {
      "image/png": "[encoded data removed]",
      "text/plain": [
       "<Figure size 640x480 with 1 Axes>"
      ]
     },
     "metadata": {},
     "output_type": "display_data"
    }
   ],
   "source": [
    "from sklearn.naive_bayes import GaussianNB\n",
    "from sklearn.neighbors import KNeighborsClassifier\n",
    "\n",
    "from sklearn.model_selection import train_test_split, cross_val_score\n",
    "from sklearn.model_selection import StratifiedKFold\n",
    "\n",
    "from scipy.io.arff import loadarff\n",
    "import pandas as pd\n",
    "import seaborn as sns\n",
    "import matplotlib.pyplot as plt\n",
    "\n",
    "# Reading the ARFF file\n",
    "data = loadarff('column_diagnosis.arff')\n",
    "df = pd.DataFrame(data[0])\n",
    "df['class'] = df['class'].str.decode('utf-8')\n",
    "\n",
    "X = df.drop('class', axis=1)\n",
    "y = df['class']\n",
    "\n",
    "# kNN\n",
    "neigh = KNeighborsClassifier(n_neighbors=5)\n",
    "neigh.fit(X, y)\n",
    "\n",
    "# Bayesian\n",
    "gnb = GaussianNB()\n",
    "gnb.fit(X, y)\n",
    "\n",
    "\n",
    "cv = StratifiedKFold(n_splits=10, shuffle=True, random_state=0)\n",
    "\n",
    "# Cross-validation for kNN\n",
    "knn_scores = cross_val_score(neigh, X, y, cv=cv)\n",
    "\n",
    "# Cross-validation for Gaussian Naive Bayes\n",
    "gnb_scores = cross_val_score(gnb, X, y, cv=cv)\n",
    "\n",
    "\n",
    "# Boxplot \n",
    "data = pd.DataFrame({\n",
    "    'label1': \"Knn\",\n",
    "    'kNN_scores': knn_scores,\n",
    "    'label2': \"Gnb\",\n",
    "    'Gaussian_scores': gnb_scores\n",
    "})\n",
    "\n",
    "sns.boxplot(data=data)\n",
    "\n",
    "# Show the plot\n",
    "plt.show()"
   ]
  },
  {
   "cell_type": "markdown",
   "id": "f7c42605",
   "metadata": {},
   "source": [
    "### b. Using scipy, test the hypothesis “𝑘NN is statistically superior to naïve Bayes regarding accuracy”, asserting whether is true."
   ]
  },
  {
   "cell_type": "code",
   "execution_count": 5,
   "id": "781890d8",
   "metadata": {},
   "outputs": [
    {
     "name": "stdout",
     "output_type": "stream",
     "text": [
      "knn > gnb ? p-value= 0.19042809062064092\n",
      "knn < gnb ? p-value= 0.8095719093793591\n",
      "knn != gnb ? p-value= 0.38085618124128184\n"
     ]
    }
   ],
   "source": [
    "from scipy import stats\n",
    "\n",
    "res = stats.ttest_rel(knn_scores, gnb_scores, alternative='greater')\n",
    "print(\"knn > gnb ? p-value=\",res.pvalue)\n",
    "\n",
    "res = stats.ttest_rel(knn_scores, gnb_scores, alternative='less')\n",
    "print(\"knn < gnb ? p-value=\",res.pvalue)\n",
    "\n",
    "res = stats.ttest_rel(knn_scores, gnb_scores, alternative='two-sided')\n",
    "print(\"knn != gnb ? p-value=\",res.pvalue)"
   ]
  },
  {
   "cell_type": "markdown",
   "id": "88d123cc",
   "metadata": {},
   "source": [
    "      Baseado nestes p-values e usando um nível de significância de 0.05, não há uma diferença estatisticamente significativa entre os modelos kNN e naive Bayes. Desta forma, não podemos afirmar com confiança que um modelo é superior ao outro, relativamente ao dataset column-diagnosis."
   ]
  },
  {
   "cell_type": "markdown",
   "id": "915f4d00",
   "metadata": {},
   "source": [
    "### 2) [2.5v] Consider two 𝑘NN predictors with 𝑘 = 1 and 𝑘 = 5 (uniform weights, Euclidean distance, all remaining parameters as default). Plot the differences between the two cumulative confusion matrices of the predictors. Comment."
   ]
  },
  {
   "cell_type": "code",
   "execution_count": 6,
   "id": "123689f6",
   "metadata": {},
   "outputs": [
    {
     "ename": "NameError",
     "evalue": "name 'np' is not defined",
     "output_type": "error",
     "traceback": [
      "\u001b[0;31m---------------------------------------------------------------------------\u001b[0m",
      "\u001b[0;31mNameError\u001b[0m                                 Traceback (most recent call last)",
      "Cell \u001b[0;32mIn [6], line 30\u001b[0m\n\u001b[1;32m     27\u001b[0m     confusion_matrices_knn5\u001b[38;5;241m.\u001b[39mappend(confusion_matrix(y_test, knn5_pred))\n\u001b[1;32m     29\u001b[0m \u001b[38;5;66;03m# Calculate the final confusion matrices for each model\u001b[39;00m\n\u001b[0;32m---> 30\u001b[0m confusion_matrix_knn1 \u001b[38;5;241m=\u001b[39m \u001b[43mnp\u001b[49m\u001b[38;5;241m.\u001b[39msum(confusion_matrices_knn1, axis\u001b[38;5;241m=\u001b[39m\u001b[38;5;241m0\u001b[39m)\n\u001b[1;32m     31\u001b[0m confusion_matrix_knn5 \u001b[38;5;241m=\u001b[39m np\u001b[38;5;241m.\u001b[39msum(confusion_matrices_knn5, axis\u001b[38;5;241m=\u001b[39m\u001b[38;5;241m0\u001b[39m)\n\u001b[1;32m     33\u001b[0m \u001b[38;5;66;03m# Result confusion matrix\u001b[39;00m\n",
      "\u001b[0;31mNameError\u001b[0m: name 'np' is not defined"
     ]
    }
   ],
   "source": [
    "from sklearn.metrics import confusion_matrix\n",
    "import numpy as np\n",
    "# Create models\n",
    "knn1 = KNeighborsClassifier(n_neighbors=1, weights='uniform', metric='euclidean')\n",
    "\n",
    "knn5 = KNeighborsClassifier(n_neighbors=5, weights='uniform', metric='euclidean')\n",
    "\n",
    "# Initialize SKFold\n",
    "cv = StratifiedKFold(n_splits=10, shuffle=True, random_state=0)\n",
    "\n",
    "# Initialize confusion matrices arrays\n",
    "confusion_matrices_knn1 = []\n",
    "confusion_matrices_knn5 = []\n",
    "\n",
    "# Cross-validation\n",
    "for train_index, test_index in cv.split(X, y):\n",
    "    X_train, X_test = X.iloc[train_index], X.iloc[test_index]\n",
    "    y_train, y_test = y.iloc[train_index], y.iloc[test_index]\n",
    "\n",
    "    knn1.fit(X_train, y_train)\n",
    "    knn1_pred = knn1.predict(X_test)\n",
    "    \n",
    "    knn5.fit(X_train, y_train)\n",
    "    knn5_pred = knn5.predict(X_test)\n",
    "    \n",
    "    confusion_matrices_knn1.append(confusion_matrix(y_test, knn1_pred))\n",
    "    confusion_matrices_knn5.append(confusion_matrix(y_test, knn5_pred))\n",
    "\n",
    "# Calculate the final confusion matrices for each model\n",
    "confusion_matrix_knn1 = np.sum(confusion_matrices_knn1, axis=0)\n",
    "confusion_matrix_knn5 = np.sum(confusion_matrices_knn5, axis=0)\n",
    "\n",
    "# Result confusion matrix\n",
    "confusion_matrix = confusion_matrix_knn1 - confusion_matrix_knn5\n",
    "\n",
    "# Plotting\n",
    "labels = ['Hernia', 'Normal', 'Spondylolisthesis']\n",
    "sns.heatmap(confusion_matrix, annot=True, fmt='g', xticklabels=labels, yticklabels=labels)\n",
    "\n",
    "plt.title(\"Confusion Matrix Difference (KNN k=1 - KNN k=5)\")\n",
    "plt.xlabel(\"Predicted\")\n",
    "plt.ylabel(\"True\")\n",
    "plt.show()\n",
    "\n",
    "print(confusion_matrix_knn1, confusion_matrix_knn5)\n"
   ]
  },
  {
   "cell_type": "markdown",
   "id": "120e69e1",
   "metadata": {},
   "source": [
    "### 3) [1.5v] Considering the unique properties of column_diagnosis, identify three possible difficulties of naïve Bayes when learning from the given dataset."
   ]
  },
  {
   "cell_type": "markdown",
   "id": "33ede342",
   "metadata": {},
   "source": [
    "Disadvantages\n",
    "\n",
    "This algorithm faces the ‘zero-frequency problem’ where it assigns zero probability to a categorical variable whose category in the test data set wasn’t available in the training dataset. It would be best if you used a smoothing technique to overcome this issue.\n",
    "Its estimations can be wrong in some cases, so you shouldn’t take its probability outputs very seriously. \n",
    "\n",
    "1 - O dataset trabalha com várias variáveis relacionadas entre si. Naive Bayes assume que todos os parâmetros são independentes, o que leva a uma menor precisão em relação ao dataset."
   ]
  },
  {
   "cell_type": "code",
   "execution_count": null,
   "id": "6ca4c3a6",
   "metadata": {},
   "outputs": [],
   "source": [
    "df.head()"
   ]
  }
 ],
 "metadata": {
  "kernelspec": {
   "display_name": "Python 3 (ipykernel)",
   "language": "python",
   "name": "python3"
  },
  "language_info": {
   "codemirror_mode": {
    "name": "ipython",
    "version": 3
   },
   "file_extension": ".py",
   "mimetype": "text/x-python",
   "name": "python",
   "nbconvert_exporter": "python",
   "pygments_lexer": "ipython3",
   "version": "3.10.12"
  }
 },
 "nbformat": 4,
 "nbformat_minor": 5
}
