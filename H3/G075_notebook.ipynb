{
 "cells": [
  {
   "cell_type": "markdown",
   "metadata": {},
   "source": [
    "### Consider the winequality-red.csv dataset (available at the webpage) where the goal is to estimate the quality (sensory appreciation) of a wine based on physicochemical inputs. \n",
    "### Using a 80-20 training-test split with a fixed seed (random_state=0), you are asked to learn MLP regressors to answer the following questions.\n",
    "### Given their stochastic behavior, average the performance of each MLP from 10 runs (for reproducibility consider seeding the MLPs with random_state ∈ {1. .10})."
   ]
  },
  {
   "cell_type": "markdown",
   "metadata": {},
   "source": [
    "### 1) [3.5v] Learn a MLP regressor with 2 hidden layers of size 10, rectifier linear unit activation on all nodes, and early stopping with 20% of training data set aside for validation. All remaining parameters (e.g., loss, batch size, regularization term, solver) should be set as default. Plot the distribution of the residues (in absolute value) using a histogram."
   ]
  },
  {
   "cell_type": "code",
   "execution_count": 28,
   "metadata": {},
   "outputs": [
    {
     "name": "stdout",
     "output_type": "stream",
     "text": [
      "      fixed acidity  volatile acidity  citric acid  residual sugar  chlorides  \\\n",
      "642             9.9             0.540         0.45             2.3      0.071   \n",
      "679            10.8             0.260         0.45             3.3      0.060   \n",
      "473             9.9             0.350         0.55             2.1      0.062   \n",
      "390             5.6             0.850         0.05             1.4      0.045   \n",
      "1096            6.6             0.725         0.09             5.5      0.117   \n",
      "...             ...               ...          ...             ...        ...   \n",
      "763             9.3             0.655         0.26             2.0      0.096   \n",
      "835             7.6             0.665         0.10             1.5      0.066   \n",
      "1216            7.9             0.570         0.31             2.0      0.079   \n",
      "559            13.0             0.470         0.49             4.3      0.085   \n",
      "684             9.8             0.980         0.32             2.3      0.078   \n",
      "\n",
      "      free sulfur dioxide  total sulfur dioxide  density    pH  sulphates  \\\n",
      "642                  16.0                  40.0  0.99910  3.39       0.62   \n",
      "679                  20.0                  49.0  0.99720  3.13       0.54   \n",
      "473                   5.0                  14.0  0.99710  3.26       0.79   \n",
      "390                  12.0                  88.0  0.99240  3.56       0.82   \n",
      "1096                  9.0                  17.0  0.99655  3.35       0.49   \n",
      "...                   ...                   ...      ...   ...        ...   \n",
      "763                   5.0                  35.0  0.99738  3.25       0.42   \n",
      "835                  27.0                  55.0  0.99655  3.39       0.51   \n",
      "1216                 10.0                  79.0  0.99677  3.29       0.69   \n",
      "559                   6.0                  47.0  1.00210  3.30       0.68   \n",
      "684                  35.0                 152.0  0.99800  3.25       0.48   \n",
      "\n",
      "      alcohol  \n",
      "642       9.4  \n",
      "679       9.6  \n",
      "473      10.6  \n",
      "390      12.9  \n",
      "1096     10.8  \n",
      "...       ...  \n",
      "763       9.6  \n",
      "835       9.3  \n",
      "1216      9.5  \n",
      "559      12.7  \n",
      "684       9.4  \n",
      "\n",
      "[1279 rows x 11 columns]\n"
     ]
    }
   ],
   "source": [
    "print(X_train)"
   ]
  },
  {
   "cell_type": "code",
   "execution_count": 31,
   "metadata": {
    "scrolled": true
   },
   "outputs": [
    {
     "data": {
      "image/png": "[encoded data removed]",
      "text/plain": [
       "<Figure size 432x288 with 1 Axes>"
      ]
     },
     "metadata": {
      "needs_background": "light"
     },
     "output_type": "display_data"
    }
   ],
   "source": [
    "import pandas as pd\n",
    "import numpy as np\n",
    "import matplotlib.pyplot as plt\n",
    "\n",
    "from sklearn.neural_network import MLPRegressor\n",
    "from sklearn.model_selection import train_test_split\n",
    "\n",
    "## APAGAR ################################################################################################\n",
    "################################################################################################\n",
    "################################################################################################\n",
    "################################################################################################\n",
    "################################################################################################\n",
    "import warnings\n",
    "warnings.filterwarnings(\"ignore\")\n",
    "    \n",
    "# Reading the CSV file\n",
    "df = pd.read_csv(\"winequality-red.csv\", delimiter=\";\")\n",
    "\n",
    "X = df.drop(\"quality\", axis=1)  # Drop the \"quality\" column to get the features\n",
    "y = df[\"quality\"]  # Get the \"quality\" column as the target variable\n",
    "\n",
    "X_train, X_test, y_train, y_test = train_test_split(X, y, test_size=0.2,\n",
    "                                                    random_state=0)\n",
    "# Residues \n",
    "res = []\n",
    "\n",
    "for state in range(1, 11):\n",
    "    mlp = MLPRegressor(hidden_layer_sizes=(10,10), activation = 'relu', random_state=state,\\\n",
    "                   early_stopping = True, validation_fraction = 0.2)\n",
    "    mlp.fit(X_train, y_train)\n",
    "    \n",
    "    # Predict and calculate the residues\n",
    "    pred = mlp.predict(X_test)\n",
    "\n",
    "    res.append(np.abs(y_test - pred))\n",
    "    \n",
    "plt.hist(res, bins=20, alpha=0.5, label=[f'Seed {i}' for i in range(1, 11)])\n",
    "plt.xlabel('Residues')\n",
    "plt.ylabel('Frequency')\n",
    "plt.title('Distribution of Residues')\n",
    "plt.legend()\n",
    "plt.show()\n",
    "\n",
    "##\n",
    "## Possiveis alteracoes:\n",
    "##  1- Make regression anted do X_train (como usado na doscumentação)\n",
    "##  2- Max_iters dentro do MLP_regressor (retirei pois não me lembro porque o pus lá)\n",
    "##"
   ]
  },
  {
   "cell_type": "markdown",
   "metadata": {},
   "source": [
    "### 2) [1.5v] Since we are in the presence of a integer regression task, a recommended trick is to round and bound estimates. Assess the impact of these operations on the MAE of the MLP learnt in previous question."
   ]
  },
  {
   "cell_type": "code",
   "execution_count": 33,
   "metadata": {},
   "outputs": [
    {
     "name": "stdout",
     "output_type": "stream",
     "text": [
      "State 1: MAE Before = 0.5008, MAE After = 0.4375\n",
      "State 2: MAE Before = 0.5266, MAE After = 0.4469\n",
      "State 3: MAE Before = 0.4925, MAE After = 0.4313\n",
      "State 4: MAE Before = 0.5066, MAE After = 0.4406\n",
      "State 5: MAE Before = 0.5240, MAE After = 0.4656\n",
      "State 6: MAE Before = 0.5135, MAE After = 0.4625\n",
      "State 7: MAE Before = 0.5074, MAE After = 0.4062\n",
      "State 8: MAE Before = 0.5298, MAE After = 0.4406\n",
      "State 9: MAE Before = 0.5017, MAE After = 0.4281\n",
      "State 10: MAE Before = 0.4943, MAE After = 0.4281\n",
      "Average MAE Before Round and Bound = 0.5097\n",
      "Average MAE After Round and Bound = 0.4388\n"
     ]
    }
   ],
   "source": [
    "from sklearn.metrics import mean_absolute_error\n",
    "\n",
    "# Initialize lists to store MAE before and after rounding and bounding\n",
    "mae_original = []\n",
    "mae_round = []\n",
    "\n",
    "# Define lower and upper bounds for estimates\n",
    "lower_bound = 0  # Adjust as needed\n",
    "upper_bound = 100  # Adjust as needed\n",
    "\n",
    "X_train, X_test, y_train, y_test = train_test_split(X, y, test_size=0.2, random_state=0)\n",
    "\n",
    "# Loop through random seeds from 1 to 10\n",
    "for state in range(1, 11):\n",
    "    # Create and train the MLP regressor\n",
    "    mlp = MLPRegressor(hidden_layer_sizes=(10,10), activation = 'relu', random_state=state,\\\n",
    "                   early_stopping = True, validation_fraction = 0.2)\n",
    "    mlp.fit(X_train, y_train)\n",
    "    \n",
    "    # Predict and calculate the residues\n",
    "    pred = mlp.predict(X_test)\n",
    "\n",
    "    # Calculate the MAE before rounding and bounding\n",
    "    mae_original.append(mean_absolute_error(y_test, pred))\n",
    "    \n",
    "    rounded_predictions = np.round(pred)  # Round to the nearest integer\n",
    "    #y_rounded = np.clip(rounded_predictions, lower_bound, upper_bound)  # Bound the estimates within a range\n",
    "    #mae_round.append(mean_absolute_error(y_test, y_rounded))\n",
    "    \n",
    "    # Calculate the MAE after rounding and bounding\n",
    "    mae_round.append(mean_absolute_error(y_test, rounded_predictions))\n",
    "\n",
    "# Print the MAE before and after rounding and bounding for each run\n",
    "for i in range(10):\n",
    "    print(f\"State {i+1}: MAE Before = {mae_original[i]:.4f}, MAE After = {mae_round[i]:.4f}\")\n",
    "\n",
    "# Calculate the average MAE before and after rounding and bounding\n",
    "average_mae_original = np.mean(mae_original)\n",
    "average_mae_round = np.mean(mae_round)\n",
    "\n",
    "# Print the average MAE before and after\n",
    "print(f\"Average MAE Before Round and Bound = {average_mae_original:.4f}\")\n",
    "print(f\"Average MAE After Round and Bound = {average_mae_round:.4f}\")\n"
   ]
  },
  {
   "cell_type": "markdown",
   "metadata": {},
   "source": [
    "### 3) [1.5v] Similarly assess the impact on RMSE from replacing early stopping by a well-defined number of iterations in {20,50,100,200} (where one iteration corresponds to a batch)"
   ]
  },
  {
   "cell_type": "code",
   "execution_count": 34,
   "metadata": {},
   "outputs": [
    {
     "name": "stdout",
     "output_type": "stream",
     "text": [
      "Iterations=20: RMSE=0.8469\n",
      "Iterations=50: RMSE=0.7393\n",
      "Iterations=100: RMSE=0.6798\n",
      "Iterations=200: RMSE=0.6480\n",
      "Iterations=20: RMSE=1.3859\n",
      "Iterations=50: RMSE=0.6952\n",
      "Iterations=100: RMSE=0.6855\n",
      "Iterations=200: RMSE=0.6529\n",
      "Iterations=20: RMSE=1.0110\n",
      "Iterations=50: RMSE=0.6831\n",
      "Iterations=100: RMSE=0.6626\n",
      "Iterations=200: RMSE=0.6467\n",
      "Iterations=20: RMSE=2.2588\n",
      "Iterations=50: RMSE=0.9639\n",
      "Iterations=100: RMSE=0.6847\n",
      "Iterations=200: RMSE=0.6665\n",
      "Iterations=20: RMSE=1.8722\n",
      "Iterations=50: RMSE=0.9089\n",
      "Iterations=100: RMSE=0.7484\n",
      "Iterations=200: RMSE=0.6671\n",
      "Iterations=20: RMSE=1.6715\n",
      "Iterations=50: RMSE=0.8083\n",
      "Iterations=100: RMSE=0.6999\n",
      "Iterations=200: RMSE=0.6671\n",
      "Iterations=20: RMSE=1.0393\n",
      "Iterations=50: RMSE=0.8459\n",
      "Iterations=100: RMSE=0.7152\n",
      "Iterations=200: RMSE=0.6421\n",
      "Iterations=20: RMSE=1.0897\n",
      "Iterations=50: RMSE=0.7164\n",
      "Iterations=100: RMSE=0.6910\n",
      "Iterations=200: RMSE=0.6619\n",
      "Iterations=20: RMSE=1.1981\n",
      "Iterations=50: RMSE=0.8558\n",
      "Iterations=100: RMSE=0.7046\n",
      "Iterations=200: RMSE=0.6538\n",
      "Iterations=20: RMSE=1.6663\n",
      "Iterations=50: RMSE=0.7793\n",
      "Iterations=100: RMSE=0.6686\n",
      "Iterations=200: RMSE=0.6485\n",
      "Average RMSE with Early Stopping = 0.6707\n"
     ]
    }
   ],
   "source": [
    "from sklearn.metrics import mean_squared_error\n",
    "from math import sqrt\n",
    "\n",
    "# Initialize lists to store RMSE for different numbers of iterations\n",
    "rmse_original = []  # RMSE for MLP with early stopping\n",
    "rmse_iterations = []  # RMSE for MLP with a fixed number of iterations\n",
    "\n",
    "# Define the number of iterations to assess\n",
    "iterations_to_assess = [20, 50, 100, 200]\n",
    "\n",
    "X_train, X_test, y_train, y_test = train_test_split(X, y, test_size=0.2, random_state=0)\n",
    "\n",
    "# Loop through random seeds from 1 to 10\n",
    "for random_state in range(1, 11):\n",
    "    # Split your data into training and testing sets (80-20 split)\n",
    "\n",
    "    # Create and train the original MLP regressor with early stopping\n",
    "    original_mlp = MLPRegressor(hidden_layer_sizes=(10,10), activation='relu', early_stopping=True,\\\n",
    "                                validation_fraction=0.2, random_state=random_state)\n",
    "    original_mlp.fit(X_train, y_train)\n",
    "\n",
    "    # Make predictions with the original MLP\n",
    "    y_pred_original = original_mlp.predict(X_test)\n",
    "\n",
    "    # Calculate the RMSE for the original MLP\n",
    "    rmse_original.append(sqrt(mean_squared_error(y_test, y_pred_original)))\n",
    "\n",
    "    # Compare with different numbers of iterations\n",
    "    for num_iterations in iterations_to_assess:\n",
    "        # Create and train the MLP regressor with a fixed number of iterations\n",
    "        mlp_iterations = MLPRegressor(hidden_layer_sizes=(10,10), activation='relu', \\\n",
    "                                      max_iter=num_iterations, random_state=random_state)\n",
    "        mlp_iterations.fit(X_train, y_train)\n",
    "\n",
    "        # Make predictions on the test data\n",
    "        y_pred_iterations = mlp_iterations.predict(X_test)\n",
    "\n",
    "        # Calculate the RMSE for the current number of iterations\n",
    "        rmse = sqrt(mean_squared_error(y_test, y_pred_iterations))\n",
    "        rmse_iterations.append((num_iterations, rmse))\n",
    "\n",
    "# Print and compare the RMSE for the original MLP and different numbers of iterations\n",
    "for num_iterations, rmse in rmse_iterations:\n",
    "    print(f\"Iterations={num_iterations}: RMSE={rmse:.4f}\")\n",
    "\n",
    "average_rmse_original = np.mean(rmse_original)\n",
    "print(f\"Average RMSE with Early Stopping = {average_rmse_original:.4f}\")"
   ]
  },
  {
   "cell_type": "markdown",
   "metadata": {},
   "source": [
    "### 3) [1.5v] Critically comment the results obtained in previous question, hypothesizing at least one reason why early stopping favors and/or worsens performance."
   ]
  },
  {
   "cell_type": "markdown",
   "metadata": {},
   "source": []
  }
 ],
 "metadata": {
  "kernelspec": {
   "display_name": "Python 3",
   "language": "python",
   "name": "python3"
  }
 },
 "nbformat": 4,
 "nbformat_minor": 5
}
